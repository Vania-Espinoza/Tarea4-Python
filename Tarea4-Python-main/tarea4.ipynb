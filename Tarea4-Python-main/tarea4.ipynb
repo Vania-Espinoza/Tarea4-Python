{
 "cells": [
  {
   "cell_type": "markdown",
   "metadata": {},
   "source": [
    "Base de datos: Registros de ventas en una tienda comercial"
   ]
  },
  {
   "cell_type": "markdown",
   "metadata": {},
   "source": [
    "Variable dependiente : Ventas de la tienda"
   ]
  },
  {
   "cell_type": "code",
   "execution_count": 79,
   "metadata": {},
   "outputs": [
    {
     "data": {
      "text/html": [
       "<div>\n",
       "<style scoped>\n",
       "    .dataframe tbody tr th:only-of-type {\n",
       "        vertical-align: middle;\n",
       "    }\n",
       "\n",
       "    .dataframe tbody tr th {\n",
       "        vertical-align: top;\n",
       "    }\n",
       "\n",
       "    .dataframe thead th {\n",
       "        text-align: right;\n",
       "    }\n",
       "</style>\n",
       "<table border=\"1\" class=\"dataframe\">\n",
       "  <thead>\n",
       "    <tr style=\"text-align: right;\">\n",
       "      <th></th>\n",
       "      <th>Store ID</th>\n",
       "      <th>Store_Area</th>\n",
       "      <th>Items_Available</th>\n",
       "      <th>Daily_Customer_Count</th>\n",
       "      <th>Store_Sales</th>\n",
       "    </tr>\n",
       "  </thead>\n",
       "  <tbody>\n",
       "    <tr>\n",
       "      <th>Store ID</th>\n",
       "      <td>1.000000</td>\n",
       "      <td>-0.058705</td>\n",
       "      <td>-0.055707</td>\n",
       "      <td>-0.010029</td>\n",
       "      <td>0.071486</td>\n",
       "    </tr>\n",
       "    <tr>\n",
       "      <th>Store_Area</th>\n",
       "      <td>-0.058705</td>\n",
       "      <td>1.000000</td>\n",
       "      <td>0.998891</td>\n",
       "      <td>-0.041423</td>\n",
       "      <td>0.097474</td>\n",
       "    </tr>\n",
       "    <tr>\n",
       "      <th>Items_Available</th>\n",
       "      <td>-0.055707</td>\n",
       "      <td>0.998891</td>\n",
       "      <td>1.000000</td>\n",
       "      <td>-0.040978</td>\n",
       "      <td>0.098849</td>\n",
       "    </tr>\n",
       "    <tr>\n",
       "      <th>Daily_Customer_Count</th>\n",
       "      <td>-0.010029</td>\n",
       "      <td>-0.041423</td>\n",
       "      <td>-0.040978</td>\n",
       "      <td>1.000000</td>\n",
       "      <td>0.008629</td>\n",
       "    </tr>\n",
       "    <tr>\n",
       "      <th>Store_Sales</th>\n",
       "      <td>0.071486</td>\n",
       "      <td>0.097474</td>\n",
       "      <td>0.098849</td>\n",
       "      <td>0.008629</td>\n",
       "      <td>1.000000</td>\n",
       "    </tr>\n",
       "  </tbody>\n",
       "</table>\n",
       "</div>"
      ],
      "text/plain": [
       "                      Store ID   Store_Area  Items_Available  \\\n",
       "Store ID               1.000000   -0.058705        -0.055707   \n",
       "Store_Area            -0.058705    1.000000         0.998891   \n",
       "Items_Available       -0.055707    0.998891         1.000000   \n",
       "Daily_Customer_Count  -0.010029   -0.041423        -0.040978   \n",
       "Store_Sales            0.071486    0.097474         0.098849   \n",
       "\n",
       "                      Daily_Customer_Count  Store_Sales  \n",
       "Store ID                         -0.010029     0.071486  \n",
       "Store_Area                       -0.041423     0.097474  \n",
       "Items_Available                  -0.040978     0.098849  \n",
       "Daily_Customer_Count              1.000000     0.008629  \n",
       "Store_Sales                       0.008629     1.000000  "
      ]
     },
     "execution_count": 79,
     "metadata": {},
     "output_type": "execute_result"
    }
   ],
   "source": [
    "import pandas as pd\n",
    "import numpy as np\n",
    "import matplotlib.pyplot as plt\n",
    "import seaborn as sns\n",
    "from scipy import stats\n",
    "%matplotlib inline \n",
    "# ruta de datos\n",
    "path='datos/Stores.csv'\n",
    "df = pd.read_csv(path)\n",
    "df.head()\n",
    "# El tamaño del motor como potencial variable predictora del precio\n",
    "# sns.regplot(x=\"Store_Area\", y=\"Items_Available\", data=df)\n",
    "# plt.ylim(0,)\n",
    "df.corr()"
   ]
  },
  {
   "cell_type": "code",
   "execution_count": 80,
   "metadata": {},
   "outputs": [
    {
     "name": "stdout",
     "output_type": "stream",
     "text": [
      "(0.09747379539480504, 0.0034936646150500283)\n"
     ]
    }
   ],
   "source": [
    "\n",
    "valor_o = stats.pearsonr(df['Store_Area'], df['Store_Sales'])\n",
    "print(valor_o)"
   ]
  },
  {
   "cell_type": "markdown",
   "metadata": {},
   "source": [
    "Dado los valores p de 0.00349 < 0.05 la correlacion entre el area de la tienda y las ventas es moderadamente significativa, el coeficiente de pearson (0.097) se acerca mas al 0 que al 1 (o -1) por tanto las variables no tiene una correlacion lineal."
   ]
  }
 ],
 "metadata": {
  "kernelspec": {
   "display_name": "Python 3.9.7",
   "language": "python",
   "name": "python3"
  },
  "language_info": {
   "codemirror_mode": {
    "name": "ipython",
    "version": 3
   },
   "file_extension": ".py",
   "mimetype": "text/x-python",
   "name": "python",
   "nbconvert_exporter": "python",
   "pygments_lexer": "ipython3",
   "version": "3.9.7"
  },
  "orig_nbformat": 4,
  "vscode": {
   "interpreter": {
    "hash": "fe493dd6f4b356067ba7a6a6a792db6cb1a034e5445612d7434c018603d8cf2d"
   }
  }
 },
 "nbformat": 4,
 "nbformat_minor": 2
}
